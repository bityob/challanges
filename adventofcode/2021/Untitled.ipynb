{
 "cells": [
  {
   "cell_type": "code",
   "execution_count": 2,
   "id": "4875cd57-c5e5-44bb-b1ac-dc4830b098bf",
   "metadata": {},
   "outputs": [
    {
     "name": "stdout",
     "output_type": "stream",
     "text": [
      "****26*****\n",
      "****55*****\n",
      "****7*****\n",
      "****40*****\n",
      "****56*****\n",
      "****34*****\n",
      "****58*****\n",
      "****90*****\n",
      "****60*****\n",
      "****83*****\n",
      "****37*****\n",
      "****36*****\n",
      "****9*****\n",
      "****27*****\n",
      "****42*****\n",
      "****19*****\n",
      "****46*****\n",
      "****18*****\n",
      "****49*****\n",
      "****52*****\n",
      "****75*****\n",
      "****17*****\n",
      "****70*****\n",
      "****41*****\n",
      "##### BINGO #######\n",
      "35\t30\t*9*\t51\t*34*\n",
      "98\t80\t*56*\t62\t85\n",
      "93\t*36*\t*18*\t65\t12\n",
      "54\t32\t*26*\t79\t*49*\n",
      "5\t*83*\t*41*\t*60*\t89\n",
      "35\t98\t93\t54\t5\n",
      "30\t80\t*36*\t32\t*83*\n",
      "*9*\t*56*\t*18*\t*26*\t*41*\n",
      "51\t62\t65\t79\t*60*\n",
      "*34*\t85\t12\t*49*\t89\n"
     ]
    }
   ],
   "source": [
    "from day_04_Giant_Squid import *"
   ]
  },
  {
   "cell_type": "code",
   "execution_count": 2,
   "id": "47b93d26-90f0-4d2a-a794-b2417b4027d7",
   "metadata": {},
   "outputs": [],
   "source": [
    "for bb in boards:\n",
    "    for l in b.lines:\n",
    "        print(\"\\t\".join(str(num) for num in l))"
   ]
  },
  {
   "cell_type": "code",
   "execution_count": 8,
   "id": "cccf86b5-e367-4c1b-9097-1792bc43d949",
   "metadata": {},
   "outputs": [],
   "source": [
    "n = b.lines[0][0]"
   ]
  },
  {
   "cell_type": "code",
   "execution_count": 9,
   "id": "869059eb-86c6-481c-9b89-ca8e37f67f21",
   "metadata": {},
   "outputs": [
    {
     "data": {
      "text/plain": [
       "day_04_Giant_Squid.NumberOnBoard"
      ]
     },
     "execution_count": 9,
     "metadata": {},
     "output_type": "execute_result"
    }
   ],
   "source": [
    "type(n)"
   ]
  },
  {
   "cell_type": "code",
   "execution_count": 12,
   "id": "46cd8c53-15dc-45d7-9dd0-0e767b4c0e00",
   "metadata": {},
   "outputs": [],
   "source": [
    "n.mark(n.number)"
   ]
  },
  {
   "cell_type": "code",
   "execution_count": 13,
   "id": "541ff95a-ec1d-41d0-b3e6-6f12f804a191",
   "metadata": {},
   "outputs": [
    {
     "data": {
      "text/plain": [
       "True"
      ]
     },
     "execution_count": 13,
     "metadata": {},
     "output_type": "execute_result"
    }
   ],
   "source": [
    "n.is_marked()"
   ]
  },
  {
   "cell_type": "code",
   "execution_count": null,
   "id": "7ec4edfa-1953-4520-b5d2-1a7fd2a9c37d",
   "metadata": {},
   "outputs": [],
   "source": []
  }
 ],
 "metadata": {
  "kernelspec": {
   "display_name": "Python 3 (ipykernel)",
   "language": "python",
   "name": "python3"
  },
  "language_info": {
   "codemirror_mode": {
    "name": "ipython",
    "version": 3
   },
   "file_extension": ".py",
   "mimetype": "text/x-python",
   "name": "python",
   "nbconvert_exporter": "python",
   "pygments_lexer": "ipython3",
   "version": "3.8.10"
  }
 },
 "nbformat": 4,
 "nbformat_minor": 5
}
